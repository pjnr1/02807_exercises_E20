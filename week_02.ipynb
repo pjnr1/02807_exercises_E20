{
 "cells": [
  {
   "cell_type": "markdown",
   "metadata": {},
   "source": [
    "# Week 1\n",
    "\n",
    "## Intro to NumPy\n",
    "\n",
    "This week is also about introducing Google Colab, however, that won't really be done in this repo.."
   ]
  },
  {
   "cell_type": "markdown",
   "metadata": {},
   "source": [
    "----\n",
    "\n",
    "### Exercise 1\n",
    "\n",
    "Import numpy and print the version number"
   ]
  },
  {
   "cell_type": "code",
   "execution_count": 11,
   "metadata": {},
   "outputs": [
    {
     "name": "stdout",
     "output_type": "stream",
     "text": [
      "1.18.3\n"
     ]
    }
   ],
   "source": [
    "import numpy as np\n",
    "\n",
    "print(np.__version__)"
   ]
  },
  {
   "cell_type": "markdown",
   "metadata": {},
   "source": [
    "----\n",
    "\n",
    "### Exercise 2\n",
    "\n",
    "_2a._ Create a 1-D array of numbers from 0 to and with 9,\n",
    "e.g.:\n",
    "\n",
    "`x = [0, 1, 2, 3, 4, 5, 6, 7, 8, 9]`\n"
   ]
  },
  {
   "cell_type": "code",
   "execution_count": 34,
   "metadata": {},
   "outputs": [
    {
     "name": "stdout",
     "output_type": "stream",
     "text": [
      "[0 1 2 3 4 5 6 7 8 9]\n"
     ]
    }
   ],
   "source": [
    "print(np.arange(10))"
   ]
  },
  {
   "cell_type": "markdown",
   "metadata": {},
   "source": [
    "_2b._ Create a 3x3 Boolean array of all `True`'s, e.g.:\n",
    "\n",
    "```\n",
    "array([[ True,  True,  True],\n",
    "       [ True,  True,  True],\n",
    "       [ True,  True,  True]])\n",
    "```"
   ]
  },
  {
   "cell_type": "code",
   "execution_count": 33,
   "metadata": {},
   "outputs": [
    {
     "name": "stdout",
     "output_type": "stream",
     "text": [
      "[[ True  True  True]\n",
      " [ True  True  True]\n",
      " [ True  True  True]]\n"
     ]
    }
   ],
   "source": [
    "print(np.full((3,3), True))"
   ]
  },
  {
   "cell_type": "markdown",
   "metadata": {},
   "source": [
    "_2c._ Create a 5x3x4 array randomly filled with integers between 0 and 4, inclusive. E.g.\n",
    "\n",
    "```\n",
    "array([[[3, 4, 0, 4],\n",
    "        [2, 3, 4, 4],\n",
    "        [0, 2, 4, 2]],\n",
    " \n",
    "       [[2, 1, 3, 0],\n",
    "        [4, 3, 2, 2],\n",
    "        [2, 1, 2, 4]],\n",
    " \n",
    "       [[3, 1, 1, 1],\n",
    "        [4, 4, 0, 1],\n",
    "        [0, 2, 3, 0]],\n",
    " \n",
    "       [[3, 0, 3, 3],\n",
    "        [4, 0, 3, 3],\n",
    "        [3, 3, 0, 1]],\n",
    " \n",
    "       [[3, 2, 2, 2],\n",
    "        [0, 1, 1, 4],\n",
    "        [4, 2, 1, 0]]])\n",
    "```"
   ]
  },
  {
   "cell_type": "code",
   "execution_count": 32,
   "metadata": {},
   "outputs": [
    {
     "name": "stdout",
     "output_type": "stream",
     "text": [
      "[[[2 1 0 2]\n",
      "  [1 1 2 2]\n",
      "  [2 0 3 3]]\n",
      "\n",
      " [[3 0 2 0]\n",
      "  [3 3 1 1]\n",
      "  [0 3 2 2]]\n",
      "\n",
      " [[1 3 3 1]\n",
      "  [2 0 2 0]\n",
      "  [1 2 3 3]]\n",
      "\n",
      " [[0 3 2 3]\n",
      "  [2 1 2 1]\n",
      "  [3 1 2 1]]\n",
      "\n",
      " [[0 2 0 1]\n",
      "  [0 2 1 0]\n",
      "  [3 3 3 2]]]\n"
     ]
    }
   ],
   "source": [
    "print(np.random.randint(0, 4, size=(5, 3, 4)))"
   ]
  },
  {
   "cell_type": "markdown",
   "metadata": {},
   "source": [
    "-----\n",
    "\n",
    "### Exercise 3\n",
    "\n",
    "Use NumPy's vectorised operations to define a function that computes the dot product."
   ]
  },
  {
   "cell_type": "code",
   "execution_count": 35,
   "metadata": {},
   "outputs": [],
   "source": [
    "X = np.random.rand(100000)\n",
    "Y = np.random.rand(100000)"
   ]
  },
  {
   "cell_type": "code",
   "execution_count": 36,
   "metadata": {},
   "outputs": [],
   "source": [
    "def my_dot(X, Y):\n",
    "    return np.sum(X * Y)"
   ]
  },
  {
   "cell_type": "code",
   "execution_count": 40,
   "metadata": {},
   "outputs": [
    {
     "name": "stdout",
     "output_type": "stream",
     "text": [
      "95.2 µs ± 5.98 µs per loop (mean ± std. dev. of 7 runs, 10000 loops each)\n",
      "24953.24051003745\n",
      "20 µs ± 3.31 µs per loop (mean ± std. dev. of 7 runs, 100000 loops each)\n",
      "24953.240510037456\n",
      "17.7 µs ± 224 ns per loop (mean ± std. dev. of 7 runs, 100000 loops each)\n",
      "24953.240510037456\n"
     ]
    }
   ],
   "source": [
    "%timeit my_dot(X, Y)\n",
    "print(my_dot(X, Y))\n",
    "%timeit np.dot(X,Y)\n",
    "print(np.dot(X,Y))\n",
    "%timeit X.dot(Y)\n",
    "print(X.dot(Y))"
   ]
  },
  {
   "cell_type": "markdown",
   "metadata": {},
   "source": [
    "__note__: Oh well, surely one ought to use `matrix1.dot(matrix2)`"
   ]
  },
  {
   "cell_type": "markdown",
   "metadata": {},
   "source": [
    "-----\n",
    "\n",
    "### Exercise 4\n",
    "\n",
    "Let's look at a more interesting problem. Here's a classic technical interview problem:\n",
    "> Given a stock’s price history as a sequence, and assuming that you are only allowed to make one purchase and one sale, what is the maximum profit that can be obtained? For example, given prices = (20, 18, 14, 17, 20, 21, 15), the max profit would be 7, from buying at 14 and selling at 21.\n"
   ]
  },
  {
   "cell_type": "markdown",
   "metadata": {},
   "source": [
    "The straighforward solution, with  𝑂(𝑛2)  time complexity, consists of taking every combination of two consecutive prices and determining the maximum difference.\n",
    "\n",
    "However, there's also an  𝑂(𝑛)  solution that consists of iterating through the sequence just once and finding the difference between each price and a running minimum. Here's an non-vectorised implementation:"
   ]
  },
  {
   "cell_type": "code",
   "execution_count": 42,
   "metadata": {},
   "outputs": [],
   "source": [
    "def profit(prices):\n",
    "    max_px = 0\n",
    "    min_px= prices[0]\n",
    "    for px in prices[1:]:\n",
    "        min_px = min(min_px, px)\n",
    "        max_px = max(px - min_px, max_px)\n",
    "    return max_px"
   ]
  },
  {
   "cell_type": "code",
   "execution_count": 43,
   "metadata": {},
   "outputs": [],
   "source": [
    "# Construct 'realistic' data\n",
    "\n",
    "# Create mostly NaN array with a few 'turning points' (local min/max).\n",
    "prices = np.full(100, fill_value=np.nan)\n",
    "prices[[0, 10, 50, 80, -1]] = [80., 30., 50., 70., 40.]\n",
    "\n",
    "# Linearly interpolate the missing values and add some noise.\n",
    "x = np.arange(len(prices))\n",
    "is_valid = ~np.isnan(prices)\n",
    "prices = np.interp(x=x, xp=x[is_valid], fp=prices[is_valid])\n",
    "prices += np.random.randn(len(prices)) * 2"
   ]
  },
  {
   "cell_type": "markdown",
   "metadata": {},
   "source": [
    "Plot the constructed data:"
   ]
  },
  {
   "cell_type": "code",
   "execution_count": 45,
   "metadata": {},
   "outputs": [
    {
     "data": {
      "image/png": "[encoded data removed]",
      "text/plain": [
       "<Figure size 640x480 with 1 Axes>"
      ]
     },
     "metadata": {},
     "output_type": "display_data"
    }
   ],
   "source": [
    "import matplotlib.pyplot as plt\n",
    "%matplotlib inline\n",
    "plt.style.use('classic')\n",
    "\n",
    "# Warning! This isn't a fully correct solution, but it works for now.\n",
    "# If the absolute min came after the absolute max, you'd have trouble.\n",
    "mn = np.argmin(prices)\n",
    "mx = mn + np.argmax(prices[mn:])\n",
    "kwargs = {'markersize': 8, 'linestyle': ''}\n",
    "\n",
    "fig, ax = plt.subplots()\n",
    "ax.plot(prices)\n",
    "ax.set_title('Price History')\n",
    "ax.set_xlabel('Time')\n",
    "ax.set_ylabel('Price')\n",
    "ax.plot(mn, prices[mn], marker='o', color='g', **kwargs)\n",
    "ax.plot(mx, prices[mx], marker='o', color='r', **kwargs)\n",
    "plt.show()"
   ]
  },
  {
   "cell_type": "code",
   "execution_count": 54,
   "metadata": {},
   "outputs": [
    {
     "data": {
      "text/plain": [
       "41.215290118586374"
      ]
     },
     "execution_count": 54,
     "metadata": {},
     "output_type": "execute_result"
    }
   ],
   "source": [
    "def my_profit(prices):\n",
    "    \"\"\"Price minus cumulative minimum price, element-wise.\"\"\"\n",
    "    runmin = np.minimum.accumulate\n",
    "    return np.max(prices - runmin(prices))\n",
    "\n",
    "my_profit(prices)"
   ]
  },
  {
   "cell_type": "markdown",
   "metadata": {},
   "source": [
    "Time the solutions:"
   ]
  },
  {
   "cell_type": "code",
   "execution_count": 56,
   "metadata": {},
   "outputs": [
    {
     "name": "stdout",
     "output_type": "stream",
     "text": [
      "The maximum profit is 41.215290118586374\n",
      "59.5 µs ± 3.5 µs per loop (mean ± std. dev. of 7 runs, 10000 loops each)\n",
      "The maximum profit is 41.215290118586374\n",
      "6.74 µs ± 649 ns per loop (mean ± std. dev. of 7 runs, 100000 loops each)\n"
     ]
    }
   ],
   "source": [
    "print(\"The maximum profit is\", profit(prices))\n",
    "%timeit profit(prices)\n",
    "\n",
    "print(\"The maximum profit is\", my_profit(prices))\n",
    "%timeit my_profit(prices)"
   ]
  },
  {
   "cell_type": "markdown",
   "metadata": {},
   "source": [
    "Over a large dataset, you'll normally see significant performance differences. Our implementation of `my_profit` typically runs about 80x faster than `profit` over a random dataset with 1.000.000 datapoints. Do you get comparable results?"
   ]
  },
  {
   "cell_type": "code",
   "execution_count": 57,
   "metadata": {},
   "outputs": [
    {
     "name": "stdout",
     "output_type": "stream",
     "text": [
      "643 ms ± 98.8 ms per loop (mean ± std. dev. of 7 runs, 1 loop each)\n",
      "5.44 ms ± 188 µs per loop (mean ± std. dev. of 7 runs, 100 loops each)\n"
     ]
    }
   ],
   "source": [
    "rand_seq = np.random.randint(0, 100, size=1000000)\n",
    "%timeit profit(rand_seq)\n",
    "%timeit my_profit(rand_seq)"
   ]
  },
  {
   "cell_type": "markdown",
   "metadata": {},
   "source": [
    "----\n",
    "\n",
    "### Exercise 5\n",
    "\n",
    "This next exercise is about extracting potentially useful information from a dataset. In this case, the `prices` vector created earlier."
   ]
  },
  {
   "cell_type": "markdown",
   "metadata": {},
   "source": [
    "_5a._ First, let's find all values in a given range. Extract all prices with values between 45 and 65 from the first 10 prices in `prices`.\n",
    "\n",
    "I.e. all values where `45 < prices[:10] < 65` is `True`."
   ]
  },
  {
   "cell_type": "code",
   "execution_count": 61,
   "metadata": {},
   "outputs": [
    {
     "name": "stdout",
     "output_type": "stream",
     "text": [
      "[59.43931081 57.6690631  47.63141578]\n"
     ]
    }
   ],
   "source": [
    "prices_subset = prices[:10]\n",
    "print(prices_subset[(prices_subset > 45) & (prices_subset < 65)])"
   ]
  },
  {
   "cell_type": "markdown",
   "metadata": {},
   "source": [
    "_5b._ Let's say that you want to buy in the first time the price drops below 30. Let's find the first occurence of a value meeting a condition."
   ]
  },
  {
   "cell_type": "code",
   "execution_count": 63,
   "metadata": {},
   "outputs": [
    {
     "name": "stdout",
     "output_type": "stream",
     "text": [
      "[[11]]\n"
     ]
    }
   ],
   "source": [
    "print(np.argwhere(prices < 30))"
   ]
  },
  {
   "cell_type": "markdown",
   "metadata": {},
   "source": [
    "_5c._ Let's get the positions and values of the top 10 prices overall. Use NumPy only to extract this information."
   ]
  },
  {
   "cell_type": "code",
   "execution_count": 68,
   "metadata": {},
   "outputs": [],
   "source": [
    "# Using np.argpartition we can define a function that find\n",
    "# indicies of the n-max values:\n",
    "def max_n(arr, n):\n",
    "    return np.argpartition(arr, -n)[-n:]"
   ]
  },
  {
   "cell_type": "markdown",
   "metadata": {},
   "source": [
    "The values are then simply found by using the indices on the original `prices`:"
   ]
  },
  {
   "cell_type": "code",
   "execution_count": 71,
   "metadata": {},
   "outputs": [
    {
     "name": "stdout",
     "output_type": "stream",
     "text": [
      "Positions of the top 5 prices\n",
      "[75 80  2  1  0]\n",
      "Values of the top 5 prices\n",
      "[70.86702458 70.98434172 72.71660898 79.09253656 81.17614869]\n"
     ]
    }
   ],
   "source": [
    "print(\"Positions of the top 5 prices\")\n",
    "print(max_n(prices, 5))\n",
    "print(\"Values of the top 5 prices\")\n",
    "print(prices[max_n(prices, 5)])"
   ]
  },
  {
   "cell_type": "markdown",
   "metadata": {},
   "source": [
    "_5d._ Find the summary statics of `price`, i.e. the mean, median and std.dev."
   ]
  },
  {
   "cell_type": "code",
   "execution_count": 75,
   "metadata": {},
   "outputs": [
    {
     "name": "stdout",
     "output_type": "stream",
     "text": [
      "Mean, median and std.dev.:\n",
      "\t50.46345028867765\n",
      "\t48.656841315254205\n",
      "\t12.17659692925846\n"
     ]
    }
   ],
   "source": [
    "print(f'Mean, median and std.dev.:\\n' \\\n",
    "      f'\\t{np.mean(prices)}\\n' \\\n",
    "      f'\\t{np.median(prices)}\\n' \\\n",
    "      f'\\t{np.std(prices)}')"
   ]
  },
  {
   "cell_type": "markdown",
   "metadata": {},
   "source": [
    "_5e._ Finally, let's find all the local maxima in the `prices` array. If you are up for the challenge, you can try to use NumPy functions only. Otherwise, the package `scipy.signal` offers a nice function called `find_peaks`."
   ]
  },
  {
   "cell_type": "code",
   "execution_count": 125,
   "metadata": {},
   "outputs": [],
   "source": [
    "def find_local_maxima_1(prices):\n",
    "    return np.where((prices[1:-1] > prices[0:-2]) & (prices[1:-1] > prices[2:]))[0] + 1"
   ]
  },
  {
   "cell_type": "markdown",
   "metadata": {},
   "source": [
    "Now, that's test the speed and result compared with `scipy.signal.find_peaks`"
   ]
  },
  {
   "cell_type": "code",
   "execution_count": 133,
   "metadata": {},
   "outputs": [
    {
     "name": "stdout",
     "output_type": "stream",
     "text": [
      "[13 15 20 22 24 27 31 33 35 38 40 43 46 48 52 55 57 59 61 65 70 72 75 78\n",
      " 80 83 93 97]\n",
      "5.11 µs ± 241 ns per loop (mean ± std. dev. of 7 runs, 100000 loops each)\n",
      "[13 15 20 22 24 27 31 33 35 38 40 43 46 48 52 55 57 59 61 65 70 72 75 78\n",
      " 80 83 93 97]\n",
      "15.1 µs ± 190 ns per loop (mean ± std. dev. of 7 runs, 100000 loops each)\n"
     ]
    }
   ],
   "source": [
    "from scipy.signal import find_peaks\n",
    "\n",
    "print(find_local_maxima_1(prices))\n",
    "%timeit find_local_maxima_1(prices)\n",
    "\n",
    "print(find_peaks(prices)[0])\n",
    "%timeit find_peaks(prices)[0]"
   ]
  },
  {
   "cell_type": "markdown",
   "metadata": {},
   "source": [
    "The simple implementation `find_local_maxima_1()` is much faster, however, the method is very limited compared to `find_peaks`. Thus, some overhead is associated with more advanced and dynamic functionality."
   ]
  },
  {
   "cell_type": "code",
   "execution_count": 134,
   "metadata": {},
   "outputs": [
    {
     "data": {
      "image/png": "[encoded data removed]",
      "text/plain": [
       "<Figure size 640x480 with 1 Axes>"
      ]
     },
     "metadata": {},
     "output_type": "display_data"
    }
   ],
   "source": [
    "# Plot the found peaks\n",
    "peaks = find_local_maxima_1(prices)\n",
    "\n",
    "kwargs = {'markersize': 8, 'linestyle': ''}\n",
    "\n",
    "fig, ax = plt.subplots()\n",
    "ax.plot(prices)\n",
    "ax.set_title('Price History')\n",
    "ax.set_xlabel('Time')\n",
    "ax.set_ylabel('Price')\n",
    "ax.plot(peaks, prices[peaks], marker='o', color='b', **kwargs)\n",
    "plt.show()"
   ]
  }
 ],
 "metadata": {
  "kernelspec": {
   "display_name": "Python 3",
   "language": "python",
   "name": "python3"
  },
  "language_info": {
   "codemirror_mode": {
    "name": "ipython",
    "version": 3
   },
   "file_extension": ".py",
   "mimetype": "text/x-python",
   "name": "python",
   "nbconvert_exporter": "python",
   "pygments_lexer": "ipython3",
   "version": "3.7.0"
  }
 },
 "nbformat": 4,
 "nbformat_minor": 4
}
